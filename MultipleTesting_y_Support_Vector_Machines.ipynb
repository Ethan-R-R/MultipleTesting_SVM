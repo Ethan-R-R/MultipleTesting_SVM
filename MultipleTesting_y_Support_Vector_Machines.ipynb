{
 "cells": [
  {
   "cell_type": "markdown",
   "id": "df2c7e0d",
   "metadata": {},
   "source": [
    "# SVM  y Multiple Testing\n",
    "En este trabajo se trabajará con una base de datos que cuenta con 83 muestras y 2308 variables. La variable de salida cuenta con valores numéricos del 1 al 4 que corresponde a diferentes tipos de cáncer. La idea es hacer tanto un análisis de prueba de hipótesis para poder ver cuales expresiones genéticas tienen una mayor importancia estadística en el tipo de cáncer. Además de hacer tres modelos de clasificación con Support Vector Machines para poder observar que tipos de kernel funcionan mejor. \n",
    "\n",
    "Primero se va a importar la base de datos y se revisará si hay datos vacíos. \n"
   ]
  },
  {
   "cell_type": "code",
   "execution_count": 38,
   "id": "ba830f6a",
   "metadata": {},
   "outputs": [
    {
     "name": "stdout",
     "output_type": "stream",
     "text": [
      "(83, 2309)\n",
      "DatosVacios\n",
      "0    83\n",
      "Name: count, dtype: int64\n"
     ]
    }
   ],
   "source": [
    "import pandas as pd \n",
    "import numpy as np\n",
    "import matplotlib.pyplot as plt\n",
    "from statsmodels.stats.multitest import multipletests \n",
    "\n",
    "df  = pd.read_csv(\"A3.1 Khan.csv\")\n",
    "\n",
    "print(df.shape)\n",
    "#la siguiente linea se genero con ayuda de chatgpt\n",
    "#añade una columna que incluye la cantidad de huecos que tiene cada fila\n",
    "df[\"DatosVacios\"] = df.isnull().sum(axis=1)\n",
    "print(df.DatosVacios.value_counts())\n",
    "df.drop(\"DatosVacios\",axis=1,inplace=True)\n",
    "\n",
    "\n"
   ]
  },
  {
   "cell_type": "markdown",
   "id": "06b55ee4",
   "metadata": {},
   "source": [
    "Afortunadamente, no hay datos vacíos por lo que no es necesario imputar datos.\n",
    "\n",
    "Ahora, se encontrarán los 10 genes con mayores diferencias entre las categorías 2 y 4. En un análisis de inferencia se buscaría demostrar que la diferencia entre las medias de estos genes es estadísticamente significativa para poder utilizarlos como ayuda para clasificar tipos de cáncer. Al tener una diferencia de medias mayor, las expresiones de estos genes son mejores para diferenciar entre tumores de clase 2 y clase 4. \n",
    "\n"
   ]
  },
  {
   "cell_type": "code",
   "execution_count": 39,
   "id": "3765e9b5",
   "metadata": {},
   "outputs": [
    {
     "name": "stdout",
     "output_type": "stream",
     "text": [
      "Tamaño clase 2\n",
      "              0\n",
      "X187   3.323151\n",
      "X509   2.906537\n",
      "X2046  2.424515\n",
      "X2050  2.401783\n",
      "X129   2.165185\n",
      "X1645  2.065460\n",
      "X1319  2.045941\n",
      "X1955  2.037340\n",
      "X1003  2.011337\n",
      "X246   1.837830\n"
     ]
    }
   ],
   "source": [
    "#Separar por clases \n",
    "\n",
    "class1 = df[df[\"y\"] == 1]\n",
    "class2 = df[df[\"y\"] == 2]\n",
    "class3 = df[df[\"y\"]==3]\n",
    "class4 = df[df[\"y\"]==4]\n",
    "\n",
    "\n",
    "print(\"Tamaño clase 2\")\n",
    "class2Mean = class2.mean(axis=0).drop('y')\n",
    "class4Mean = class4.mean(axis=0).drop('y')\n",
    "\n",
    "\n",
    "differences = np.abs(class2Mean-class4Mean)\n",
    "\n",
    "\n",
    "LargestDifferences  =pd.DataFrame( differences.nlargest(10))\n",
    "\n",
    "\n",
    "print(LargestDifferences.head(10))"
   ]
  },
  {
   "cell_type": "markdown",
   "id": "86e1fbbf",
   "metadata": {},
   "source": [
    "Ahora que se tienen las 10 variables con mayor diferencia de promedio se van a hacer múltiples pruebas de hipótesis para ver cuáles son las variables que tienen importancia estadística. \n",
    "\n",
    "Estas pruebas de hipótesis se harán con el estadístico T de student, con la hipótesis nula de que el promedio de cada variable entre ambas muestras es igual para las dos categorías. \n",
    "\n",
    "Para esto se utilizará la función multipletests de statsmodels.stats.multitest. A cada gen se le hizo una prueba de hipótesis y todo se juntó en un DataFrame.\n",
    "\n",
    "Después de eso, se ajustaron los errores para evitar falsos descubrimientos. Se compararán los resultados de utilizar tres metodologías diferentes, metodología de Bonferroni, de Holm y de Benjamini Hochberg. \n"
   ]
  },
  {
   "cell_type": "code",
   "execution_count": 40,
   "id": "61e1bbf0",
   "metadata": {},
   "outputs": [
    {
     "name": "stdout",
     "output_type": "stream",
     "text": [
      "TtestResult(statistic=-1.0713622538753331, pvalue=0.2840626139251289, df=4614.0)\n",
      "  Gen         T       PValues\n",
      "0  X1  0.737187  4.643217e-01\n",
      "1  X2 -7.247278  1.996254e-09\n",
      "2  X3  4.300195  7.527096e-05\n",
      "3  X4 -0.230214  8.188286e-01\n",
      "4  X5  1.114639  2.701303e-01\n"
     ]
    },
    {
     "name": "stderr",
     "output_type": "stream",
     "text": [
      "c:\\Users\\ethan\\anaconda3\\Lib\\site-packages\\scipy\\stats\\_axis_nan_policy.py:531: RuntimeWarning: Precision loss occurred in moment calculation due to catastrophic cancellation. This occurs when the data are nearly identical. Results may be unreliable.\n",
      "  res = hypotest_fun_out(*samples, **kwds)\n"
     ]
    }
   ],
   "source": [
    "import scipy.stats \n",
    "ttest = scipy.stats.ttest_ind(class2Mean,class4Mean)\n",
    "print(ttest)\n",
    "\n",
    "\n",
    "ttestValues  = []\n",
    "pValues = []\n",
    "degreesFreedom = []\n",
    "genName = []\n",
    "tempT = 0 \n",
    "tempP = 0\n",
    "for gen in class2.columns :\n",
    "    tempT, tempP = scipy.stats.ttest_ind(class2[gen],class4[gen])\n",
    "    ttestValues.append(tempT)\n",
    "    pValues.append(tempP)\n",
    "    genName.append(gen)\n",
    "\n",
    "#https://pandas.pydata.org/docs/reference/api/pandas.DataFrame.html\n",
    "\n",
    "pValuesd = {'Gen':genName, 'T':ttestValues,'PValues':pValues}\n",
    "pValuesDF = pd.DataFrame(pValuesd)\n",
    "\n",
    "print(pValuesDF.head())\n",
    "\n",
    "\n",
    "\n",
    "\n",
    "\n",
    "# for i in range(0 , 83 , 1) :\n",
    "#         tempT, tempP = scipy.stats.ttest_ind(class2Mean[i],class4Mean[i])\n",
    "#         ttestValues.append(tempT)\n",
    "#         pValues.append(tempP)\n",
    "\n",
    "# print(ttestValues)\n",
    "# print(pValues)\n"
   ]
  },
  {
   "cell_type": "code",
   "execution_count": 41,
   "id": "5b953494",
   "metadata": {},
   "outputs": [
    {
     "name": "stdout",
     "output_type": "stream",
     "text": [
      "(2309,)\n"
     ]
    }
   ],
   "source": [
    "print(pValuesDF.PValues.shape)\n",
    "\n",
    "##Definir valores corregidos\n",
    "#Metodo de Bonferroni\n",
    "correctedBonferroni = multipletests(pValuesDF.PValues, alpha=0.05, method = 'bonferroni')\n",
    "#Método de Holm\n",
    "correctedHolm = multipletests(pValuesDF.PValues, alpha = 0.05, method = 'holm')\n",
    "#Método de Benjamini Hochberg\n",
    "correctedBH = multipletests(pValuesDF.PValues, alpha = 0.05, method = 'fdr_bh')\n",
    "\n",
    "#Añadir al DF \n",
    "pValuesDF[\"Results Bonferroni\"] = correctedBonferroni[0]\n",
    "pValuesDF[\"PValues Bonferroni\"] = correctedBonferroni[1]\n",
    "\n",
    "pValuesDF[\"Results Holm\"] = correctedHolm[0]\n",
    "pValuesDF[\"PValues Holm\"] = correctedHolm[1]\n",
    "\n",
    "pValuesDF[\"Results Benjamini/Hochberg\"] = correctedBH[0]\n",
    "pValuesDF[\"PValues Benjamini/Hochberg\"] = correctedBH[1]\n",
    "\n",
    "\n"
   ]
  },
  {
   "cell_type": "code",
   "execution_count": 42,
   "id": "425a7a80",
   "metadata": {},
   "outputs": [
    {
     "name": "stdout",
     "output_type": "stream",
     "text": [
      "Cantidad de Genes con diferencias significativas metodología de Bonferroni\n",
      "75\n",
      "Genes con diferencias significativas Bonferroni\n",
      "1          X2\n",
      "35        X36\n",
      "66        X67\n",
      "128      X129\n",
      "173      X174\n",
      "        ...  \n",
      "2145    X2146\n",
      "2226    X2227\n",
      "2246    X2247\n",
      "2302    X2303\n",
      "2308        y\n",
      "Name: Gen, Length: 75, dtype: object\n",
      "Cantidad de Genes con diferencias significativas metodología de Holm\n",
      "75\n",
      "Genes con diferencias significativoa Holm\n",
      "1          X2\n",
      "35        X36\n",
      "66        X67\n",
      "128      X129\n",
      "173      X174\n",
      "        ...  \n",
      "2145    X2146\n",
      "2226    X2227\n",
      "2246    X2247\n",
      "2302    X2303\n",
      "2308        y\n",
      "Name: Gen, Length: 75, dtype: object\n",
      "Cantidad de Genes con diferencias significativas metodología de Benjamini - Hochberg\n",
      "298\n",
      "Genes significativos Benjamini/Hochberg\n",
      "1          X2\n",
      "2          X3\n",
      "28        X29\n",
      "35        X36\n",
      "51        X52\n",
      "        ...  \n",
      "2294    X2295\n",
      "2299    X2300\n",
      "2300    X2301\n",
      "2302    X2303\n",
      "2308        y\n",
      "Name: Gen, Length: 298, dtype: object\n"
     ]
    }
   ],
   "source": [
    "#Imprimir resultados de método de bonferroni\n",
    "print(\"Cantidad de Genes con diferencias significativas metodología de Bonferroni\")\n",
    "\n",
    "print(pValuesDF[pValuesDF[\"Results Bonferroni\"]==True].shape[0])\n",
    "\n",
    "print(\"Genes con diferencias significativas Bonferroni\")\n",
    "print(pValuesDF[pValuesDF[\"Results Bonferroni\"]==True].Gen)\n",
    "\n",
    "\n",
    "# Imprimir resultados metodología de Holm\n",
    "print(\"Cantidad de Genes con diferencias significativas metodología de Holm\")\n",
    "\n",
    "print(pValuesDF[pValuesDF[\"Results Holm\"]==True].shape[0])\n",
    "\n",
    "print(\"Genes con diferencias significativoa Holm\")\n",
    "print(pValuesDF[pValuesDF[\"Results Holm\"]==True].Gen)\n",
    "\n",
    "#Imprimir resultados metodología Benjamini-Hochberg\n",
    "print(\"Cantidad de Genes con diferencias significativas metodología de Benjamini - Hochberg\")\n",
    "\n",
    "print(pValuesDF[pValuesDF[\"Results Benjamini/Hochberg\"]==True].shape[0])\n",
    "\n",
    "print(\"Genes significativos Benjamini/Hochberg\")\n",
    "print(pValuesDF[pValuesDF[\"Results Benjamini/Hochberg\"]==True].Gen)\n"
   ]
  },
  {
   "cell_type": "markdown",
   "id": "075119c4",
   "metadata": {},
   "source": [
    "Ahora se hará un ANOVA unidireccional. Esto prueba la hipótesis nula de que dos o más grupos comparten la media. \n",
    "Primero se van a separar por clases los genes que quedan (de manera similar a como se hizo con las clases 2 y 4) después se hará el ANOVA utilizando la función f_oneway para cada gen. Finalmente, se hará la corrección de pvalues con metodología de Bonferroni, de Holm y de Benjamini Hochberg. \n"
   ]
  },
  {
   "cell_type": "code",
   "execution_count": 43,
   "id": "c8bfa1c0",
   "metadata": {},
   "outputs": [
    {
     "name": "stdout",
     "output_type": "stream",
     "text": [
      "  Gen          F        PAnova\n",
      "0  X1  59.118264  3.839240e-20\n",
      "1  X2  31.279175  1.977997e-13\n",
      "2  X3  13.099869  5.004749e-07\n",
      "3  X4   0.797322  4.990053e-01\n",
      "4  X5   2.447098  6.989127e-02\n"
     ]
    },
    {
     "name": "stderr",
     "output_type": "stream",
     "text": [
      "c:\\Users\\ethan\\anaconda3\\Lib\\site-packages\\scipy\\stats\\_axis_nan_policy.py:531: ConstantInputWarning: Each of the input arrays is constant; the F statistic is not defined or infinite\n",
      "  res = hypotest_fun_out(*samples, **kwds)\n"
     ]
    }
   ],
   "source": [
    "from scipy.stats import f_oneway\n",
    "\n",
    "tempF = 0\n",
    "tempPANOVA = 0\n",
    "fstatisticValues = []\n",
    "pValuesANOVA = []\n",
    "genName = []\n",
    "for gen in class1.columns :\n",
    "    tempF, tempPANOVA = f_oneway(class1[gen],class2[gen],class3[gen],class4[gen])\n",
    "    pValuesANOVA.append(tempPANOVA)\n",
    "    fstatisticValues.append(tempF)\n",
    "    genName.append(gen)\n",
    "\n",
    "anovad = {'Gen':genName,'F':fstatisticValues,'PAnova':pValuesANOVA}\n",
    "anovaDF = pd.DataFrame(anovad) \n",
    "print(anovaDF.head())"
   ]
  },
  {
   "cell_type": "markdown",
   "id": "4909f21b",
   "metadata": {},
   "source": []
  },
  {
   "cell_type": "code",
   "execution_count": 44,
   "id": "f9129e81",
   "metadata": {},
   "outputs": [],
   "source": [
    "\n",
    "##Definir valores corregidos\n",
    "#Metodo de Bonferroni\n",
    "correctedBonferroni = multipletests(anovaDF.PAnova, alpha=0.05, method = 'bonferroni')\n",
    "#Método de Holm\n",
    "correctedHolm = multipletests(anovaDF.PAnova, alpha = 0.05, method = 'holm')\n",
    "#Método de Benjamini Hochberg\n",
    "correctedBH = multipletests(anovaDF.PAnova, alpha = 0.05, method = 'fdr_bh')\n",
    "\n",
    "#Añadir al DF \n",
    "anovaDF[\"Results Bonferroni\"] = correctedBonferroni[0]\n",
    "anovaDF[\"PValues Bonferroni\"] = correctedBonferroni[1]\n",
    "\n",
    "anovaDF[\"Results Holm\"] = correctedHolm[0]\n",
    "anovaDF[\"PValues Holm\"] = correctedHolm[1]\n",
    "\n",
    "anovaDF[\"Results Benjamini/Hochberg\"] = correctedBH[0]\n",
    "anovaDF[\"PValues Benjamini/Hochberg\"] = correctedBH[1]\n",
    "\n"
   ]
  },
  {
   "cell_type": "code",
   "execution_count": 45,
   "id": "6f34991d",
   "metadata": {},
   "outputs": [
    {
     "name": "stdout",
     "output_type": "stream",
     "text": [
      "Resultados Anova\n",
      "Cantidad de Genes con diferencias significativas metodología de Bonferroni\n",
      "405\n",
      "Genes con diferencias significativas Bonferroni\n",
      "0          X1\n",
      "1          X2\n",
      "2          X3\n",
      "16        X17\n",
      "28        X29\n",
      "        ...  \n",
      "2298    X2299\n",
      "2300    X2301\n",
      "2302    X2303\n",
      "2303    X2304\n",
      "2308        y\n",
      "Name: Gen, Length: 405, dtype: object\n",
      "Cantidad de Genes con diferencias significativas metodología de Holm\n",
      "413\n",
      "Genes con diferencias significativoa Holm\n",
      "0          X1\n",
      "1          X2\n",
      "2          X3\n",
      "16        X17\n",
      "28        X29\n",
      "        ...  \n",
      "2298    X2299\n",
      "2300    X2301\n",
      "2302    X2303\n",
      "2303    X2304\n",
      "2308        y\n",
      "Name: Gen, Length: 413, dtype: object\n",
      "Cantidad de Genes con diferencias significativas metodología de Benjamini - Hochberg\n",
      "1163\n",
      "Genes significativos Benjamini/Hochberg\n",
      "0          X1\n",
      "1          X2\n",
      "2          X3\n",
      "8          X9\n",
      "11        X12\n",
      "        ...  \n",
      "2300    X2301\n",
      "2301    X2302\n",
      "2302    X2303\n",
      "2303    X2304\n",
      "2308        y\n",
      "Name: Gen, Length: 1163, dtype: object\n"
     ]
    }
   ],
   "source": [
    "#Imprimir resultados de método de bonferroni\n",
    "print(\"Resultados Anova\")\n",
    "print(\"Cantidad de Genes con diferencias significativas metodología de Bonferroni\")\n",
    "\n",
    "print(anovaDF[anovaDF[\"Results Bonferroni\"]==True].shape[0])\n",
    "\n",
    "print(\"Genes con diferencias significativas Bonferroni\")\n",
    "print(anovaDF[anovaDF[\"Results Bonferroni\"]==True].Gen)\n",
    "\n",
    "\n",
    "# Imprimir resultados metodología de Holm\n",
    "print(\"Cantidad de Genes con diferencias significativas metodología de Holm\")\n",
    "\n",
    "print(anovaDF[anovaDF[\"Results Holm\"]==True].shape[0])\n",
    "\n",
    "print(\"Genes con diferencias significativoa Holm\")\n",
    "print(anovaDF[anovaDF[\"Results Holm\"]==True].Gen)\n",
    "\n",
    "#Imprimir resultados metodología Benjamini-Hochberg\n",
    "print(\"Cantidad de Genes con diferencias significativas metodología de Benjamini - Hochberg\")\n",
    "\n",
    "print(anovaDF[anovaDF[\"Results Benjamini/Hochberg\"]==True].shape[0])\n",
    "\n",
    "print(\"Genes significativos Benjamini/Hochberg\")\n",
    "print(anovaDF[anovaDF[\"Results Benjamini/Hochberg\"]==True].Gen)\n"
   ]
  },
  {
   "cell_type": "markdown",
   "id": "6cd8afdc",
   "metadata": {},
   "source": [
    "Ya que se exploraron los datos y pudimos observar cuales son las variables estadísticamente significativas para cada caso propuesto, se procederá a entrenar varios modelos de support vector machines. \n",
    "\n",
    "Para evitar largos tiempos de procesamiento y overfitting se reducirán las variables de entrada utilizando los resultados anteriormente encontrados.\n",
    "\n",
    "Ahora, esto es una práctica inadecuada que lleva a fuga de datos. Este trabajo es un ejercicio en clase con motivos educativos, por eso se procederá así, pero lo ideal sería un proceso de selección de características que solamente se base en experimentos realizados con los datos de entrenamiento. \n",
    "\n",
    "Consideraré 10 variables basadas en las que tengan un p-value menor para el ejercicio de ANOVA con método de Bonferroni. Esta es una idea que me dio chat-gpt, aunque el código es mío con el apoyo de las siguientes páginas.\n",
    "\n",
    "https://saturncloud.io/blog/how-to-sort-pandas-dataframe-from-one-column/\n",
    "\n",
    "https://stackoverflow.com/questions/34682828/extracting-specific-selected-columns-to-new-dataframe-as-a-copy\n",
    "\n"
   ]
  },
  {
   "cell_type": "code",
   "execution_count": 46,
   "id": "1dcd2c31",
   "metadata": {},
   "outputs": [],
   "source": [
    "\n",
    "##Sortear las variables por PValues de menor a mayor\n",
    "anovaDF = anovaDF.sort_values(\"PValues Bonferroni\", ascending= True)\n",
    "\n",
    "\n",
    "#Crear una lista que contenga los nombres de los genes (coinciden con los nombres usados en las columnas)\n",
    "# del data frame original.\n",
    "\n",
    "Variables = anovaDF.head(11).Gen.tolist()\n",
    "\n",
    "#Crear un data frame sólo con las variables de interés\n",
    "dfForSVM = df[Variables]\n",
    "\n"
   ]
  },
  {
   "cell_type": "markdown",
   "id": "46a56161",
   "metadata": {},
   "source": [
    "Ya que se tiene la base de datos, se procederá a separar datos de entrenamiento y prueba. "
   ]
  },
  {
   "cell_type": "code",
   "execution_count": 47,
   "id": "37669364",
   "metadata": {},
   "outputs": [],
   "source": [
    "from sklearn.model_selection import train_test_split\n",
    "from sklearn.svm import SVC\n",
    "\n",
    "Y = dfForSVM.y\n",
    "X = dfForSVM.drop('y',axis=1)\n",
    "\n",
    "X_train, X_test, Y_train, Y_test = train_test_split(X, Y, train_size=0.7, stratify=Y,random_state=10)\n",
    "\n",
    "\n"
   ]
  },
  {
   "cell_type": "markdown",
   "id": "bd4620cb",
   "metadata": {},
   "source": [
    "Ya con los datos separados se van a generar tres modelos de Support Vector Machines. El primero va a ser con un kernel lineal, el segundo va a ser con un kernel polinomial de tercer grado y el tercero con un kernel radial.\n",
    "Después se muestran las matrices de confusión y valores de precisión, sensibilidad y valor de f1score. "
   ]
  },
  {
   "cell_type": "code",
   "execution_count": 48,
   "id": "c9f7ec87",
   "metadata": {},
   "outputs": [
    {
     "name": "stdout",
     "output_type": "stream",
     "text": [
      "Kernel Lineal\n",
      "              precision    recall  f1-score   support\n",
      "\n",
      "           1       1.00      1.00      1.00         3\n",
      "           2       1.00      0.89      0.94         9\n",
      "           3       1.00      1.00      1.00         5\n",
      "           4       0.89      1.00      0.94         8\n",
      "\n",
      "    accuracy                           0.96        25\n",
      "   macro avg       0.97      0.97      0.97        25\n",
      "weighted avg       0.96      0.96      0.96        25\n",
      "\n"
     ]
    },
    {
     "data": {
      "image/png": "[encoded data removed]",
      "text/plain": [
       "<Figure size 640x480 with 2 Axes>"
      ]
     },
     "metadata": {},
     "output_type": "display_data"
    },
    {
     "name": "stdout",
     "output_type": "stream",
     "text": [
      "Kernel Polinomial\n",
      "              precision    recall  f1-score   support\n",
      "\n",
      "           1       1.00      1.00      1.00         3\n",
      "           2       1.00      0.89      0.94         9\n",
      "           3       1.00      0.80      0.89         5\n",
      "           4       0.80      1.00      0.89         8\n",
      "\n",
      "    accuracy                           0.92        25\n",
      "   macro avg       0.95      0.92      0.93        25\n",
      "weighted avg       0.94      0.92      0.92        25\n",
      "\n"
     ]
    },
    {
     "data": {
      "image/png": "[encoded data removed]",
      "text/plain": [
       "<Figure size 640x480 with 2 Axes>"
      ]
     },
     "metadata": {},
     "output_type": "display_data"
    },
    {
     "name": "stdout",
     "output_type": "stream",
     "text": [
      "Kernel Radial\n",
      "              precision    recall  f1-score   support\n",
      "\n",
      "           1       1.00      1.00      1.00         3\n",
      "           2       1.00      0.89      0.94         9\n",
      "           3       1.00      1.00      1.00         5\n",
      "           4       0.89      1.00      0.94         8\n",
      "\n",
      "    accuracy                           0.96        25\n",
      "   macro avg       0.97      0.97      0.97        25\n",
      "weighted avg       0.96      0.96      0.96        25\n",
      "\n"
     ]
    },
    {
     "data": {
      "image/png": "[encoded data removed]",
      "text/plain": [
       "<Figure size 640x480 with 2 Axes>"
      ]
     },
     "metadata": {},
     "output_type": "display_data"
    }
   ],
   "source": [
    "#Kernel lineal\n",
    "%matplotlib inline\n",
    "import matplotlib.pyplot as plt\n",
    "\n",
    "from sklearn.metrics import classification_report, confusion_matrix, ConfusionMatrixDisplay\n",
    "print(\"Kernel Lineal\")\n",
    "linealModel = SVC(kernel = 'linear').fit(X_train,Y_train)\n",
    "yhat = linealModel.predict(X_test)\n",
    "print(classification_report(Y_test,yhat))\n",
    "ConfusionMatrixDisplay(confusion_matrix(Y_test,yhat)).plot()\n",
    "plt.show()\n",
    "\n",
    "print(\"Kernel Polinomial\")\n",
    "polyModel = SVC(kernel = 'poly',degree = 3).fit(X_train,Y_train)\n",
    "yhat2 = polyModel.predict(X_test)\n",
    "print(classification_report(Y_test,yhat2))\n",
    "ConfusionMatrixDisplay(confusion_matrix(Y_test,yhat2)).plot()\n",
    "plt.show()\n",
    "\n",
    "print(\"Kernel Radial\")\n",
    "radialModel = SVC(kernel = 'rbf').fit(X_train,Y_train)\n",
    "yhat3 = radialModel.predict(X_test)\n",
    "print(classification_report(Y_test,yhat3))\n",
    "ConfusionMatrixDisplay(confusion_matrix(Y_test,yhat3)).plot()\n",
    "plt.show()\n"
   ]
  },
  {
   "cell_type": "markdown",
   "id": "6e378a7c",
   "metadata": {},
   "source": [
    "Los tres kernel funcionaron muy bien para la tarea. Sin embargo, probablemente hacen falta más datos para probar mejor el modelo. El kernel que generó más errores fue el de kernel polinomial. El kernel lineal y el kernel radial tuvieron ambos solo un error. En general parece que la clase 4 es la más difícil de clasificar, por lo que, en un futuro trabajo, si siguiera una metodología similar habría que buscar genes que sean más característicos de ese tipo de cáncer. \n",
    "\n",
    "En conclusión, los datos que se exploraron fueron suficientemente relevantes como para poder entrenar un buen modelo de clasificación a partir de ellos, sin embargo, la falta de observaciones dificulta el proceso.  \n"
   ]
  }
 ],
 "metadata": {
  "kernelspec": {
   "display_name": "base",
   "language": "python",
   "name": "python3"
  },
  "language_info": {
   "codemirror_mode": {
    "name": "ipython",
    "version": 3
   },
   "file_extension": ".py",
   "mimetype": "text/x-python",
   "name": "python",
   "nbconvert_exporter": "python",
   "pygments_lexer": "ipython3",
   "version": "3.12.3"
  }
 },
 "nbformat": 4,
 "nbformat_minor": 5
}
